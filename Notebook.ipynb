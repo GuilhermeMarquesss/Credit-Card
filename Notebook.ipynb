{
 "cells": [
  {
   "cell_type": "markdown",
   "metadata": {},
   "source": [
    "# Hackday - 1st Place Solution\n",
    "\n",
    "[Credit Card Classification Competition](https://www.kaggle.com/competitions/cdshackdays3/), held by Comunidade DS.\n",
    "\n",
    "Our goal here was to develop a credit card limit increase assessment model. The model must state whether Billion Bank should \"deny\" or \"grant\" a increase in the credit card limit requested by a customer.\n",
    "\n",
    "This was a very fun competition, where our main focus was  based on detecting all the `noisy data` and which approach we should take treating the outliers. The only features created were based on the `aggregation of customer's IDs`. There is a lot of potential improvement yet to be made. Best score was obtained by an ensemble of `0.51 XGB (300 estimators) + 0.49 LGBM (1000 estimators)`.\n",
    "\n",
    "\n",
    "Please, feel free to clarify any questions or suggestions on how we can improve our work in the comments below. Also, let us know if you liked the notebook!\n",
    "\n",
    "Have fun!"
   ]
  },
  {
   "cell_type": "markdown",
   "metadata": {
    "ExecuteTime": {
     "end_time": "2022-10-11T11:33:53.098919Z",
     "start_time": "2022-10-11T11:33:53.096589Z"
    }
   },
   "source": [
    "# 0.0 Imports"
   ]
  },
  {
   "cell_type": "code",
   "execution_count": 2,
   "metadata": {
    "ExecuteTime": {
     "end_time": "2023-01-15T00:27:38.492416Z",
     "start_time": "2023-01-15T00:27:35.195629Z"
    },
    "_kg_hide-input": true,
    "execution": {
     "iopub.execute_input": "2022-10-24T16:10:15.087055Z",
     "iopub.status.busy": "2022-10-24T16:10:15.086596Z",
     "iopub.status.idle": "2022-10-24T16:10:18.050039Z",
     "shell.execute_reply": "2022-10-24T16:10:18.048711Z",
     "shell.execute_reply.started": "2022-10-24T16:10:15.087016Z"
    }
   },
   "outputs": [
    {
     "name": "stderr",
     "output_type": "stream",
     "text": [
      "C:\\Users\\Cliente\\anaconda3\\envs\\Hackday\\lib\\site-packages\\tqdm\\auto.py:22: TqdmWarning: IProgress not found. Please update jupyter and ipywidgets. See https://ipywidgets.readthedocs.io/en/stable/user_install.html\n",
      "  from .autonotebook import tqdm as notebook_tqdm\n"
     ]
    }
   ],
   "source": [
    "import pandas as pd\n",
    "import numpy as np\n",
    "import matplotlib.pyplot as plt\n",
    "import seaborn as sns\n",
    "from scipy import stats\n",
    "import os\n",
    "import gc\n",
    "# import joblib\n",
    "import random\n",
    "\n",
    "# from category_encoders       import TargetEncoder\n",
    "\n",
    "# import pylab\n",
    "\n",
    "import xgboost as xgb\n",
    "import lightgbm as lgbm\n",
    "import catboost as cb\n",
    "\n",
    "from IPython.core.display  import HTML\n",
    "from IPython.display       import Image\n",
    "\n",
    "from sklearn.metrics         import mean_squared_error, r2_score, mean_absolute_error\n",
    "from sklearn.metrics         import classification_report\n",
    "from sklearn.model_selection import TimeSeriesSplit, KFold, StratifiedKFold, GroupKFold\n",
    "\n",
    "\n",
    "from sklearn.preprocessing   import RobustScaler, MinMaxScaler, OneHotEncoder, LabelEncoder, PolynomialFeatures, StandardScaler\n",
    "from sklearn.ensemble        import RandomForestClassifier\n",
    "from sklearn.ensemble        import ExtraTreesClassifier\n",
    "from sklearn.neighbors       import KNeighborsClassifier\n",
    "from sklearn.ensemble        import RandomForestClassifier\n",
    "from sklearn.linear_model    import LogisticRegression, Ridge\n",
    "from sklearn.linear_model    import LogisticRegressionCV\n",
    "from sklearn.model_selection import train_test_split\n",
    "from sklearn.model_selection import cross_val_score\n",
    "\n",
    "# from sklearn.neural_network  import MLPClassifier\n",
    "\n",
    "from sklearn.feature_selection import mutual_info_classif\n",
    "\n",
    "import optuna\n",
    "\n",
    "\n",
    "from sklearn.metrics         import confusion_matrix, accuracy_score, f1_score, roc_auc_score, roc_curve\n",
    "\n",
    "from colorama                import Fore, Back, Style\n",
    "\n",
    "import warnings\n",
    "warnings.filterwarnings(\"ignore\")"
   ]
  },
  {
   "cell_type": "markdown",
   "metadata": {},
   "source": [
    "## 0.1 Helper Functions"
   ]
  },
  {
   "cell_type": "code",
   "execution_count": 3,
   "metadata": {
    "ExecuteTime": {
     "end_time": "2023-01-15T00:27:47.218480Z",
     "start_time": "2023-01-15T00:27:47.130537Z"
    },
    "_kg_hide-output": true,
    "execution": {
     "iopub.execute_input": "2022-10-24T16:10:18.052881Z",
     "iopub.status.busy": "2022-10-24T16:10:18.052387Z",
     "iopub.status.idle": "2022-10-24T16:10:18.078744Z",
     "shell.execute_reply": "2022-10-24T16:10:18.07735Z",
     "shell.execute_reply.started": "2022-10-24T16:10:18.052843Z"
    }
   },
   "outputs": [
    {
     "data": {
      "text/html": [
       "<style>.conteiner{width:100% !important;}</style>"
      ],
      "text/plain": [
       "<IPython.core.display.HTML object>"
      ]
     },
     "metadata": {},
     "output_type": "display_data"
    }
   ],
   "source": [
    "def jupyter_settings():\n",
    "    %matplotlib inline\n",
    "\n",
    "    plt.style.use('bmh')\n",
    "    plt.rcParams['figure.figsize'] = [25, 12]\n",
    "    plt.rcParams['font.size'] = 24\n",
    "\n",
    "    display(HTML('<style>.conteiner{width:100% !important;}</style>'))\n",
    "\n",
    "    pd.options.display.max_columns = None\n",
    "    pd.options.display.max_rows = None\n",
    "    pd.set_option('display.expand_frame_repr', False)\n",
    "    # configura o pandas para quantidade de casas decimais\n",
    "    pd.set_option('display.float_format', lambda x: '%.5f' % x)\n",
    "    color_pal = sns.color_palette()\n",
    "    plt.style.use('fivethirtyeight')\n",
    "\n",
    "    sns.set()\n",
    "jupyter_settings()\n",
    "\n",
    "    \n",
    "def make_mi_scores(mi_scores, X, y):\n",
    "    mi_scores = pd.Series(mi_scores, name=\"MI Scores\")\n",
    "    mi_scores = mi_scores.sort_values(ascending=False)\n",
    "    return mi_scores\n",
    "\n",
    "def plot_mi_scores(scores, X):\n",
    "    scores = scores.sort_values(ascending=True)\n",
    "    width = np.arange(len(scores))\n",
    "    ticks = X.columns[scores.index]\n",
    "    plt.barh(width, scores)\n",
    "    plt.yticks(width, ticks)\n",
    "    plt.title(\"Mutual Information Scores\")\n",
    "    return ticks\n",
    "\n",
    "def find_outliers_tukey(x):\n",
    "    q1 = np.percentile(x, 25)\n",
    "    q3 = np.percentile(x, 75)\n",
    "    iqr = q3-q1 \n",
    "    floor = q1 - 1.5*iqr\n",
    "    ceiling = q3 + 1.5*iqr\n",
    "    outlier_indices = list(x.index[(x < floor)|(x > ceiling)])\n",
    "    outlier_values = list(x[outlier_indices])\n",
    "\n",
    "    return outlier_indices, outlier_values\n",
    "\n",
    "\n",
    "color_pal = sns.color_palette()\n",
    "plt.style.use('fivethirtyeight')"
   ]
  },
  {
   "cell_type": "markdown",
   "metadata": {},
   "source": [
    "# 1.0 CFG"
   ]
  },
  {
   "cell_type": "code",
   "execution_count": 4,
   "metadata": {
    "ExecuteTime": {
     "end_time": "2023-01-15T00:27:52.296495Z",
     "start_time": "2023-01-15T00:27:52.290499Z"
    },
    "execution": {
     "iopub.execute_input": "2022-10-24T16:10:18.082204Z",
     "iopub.status.busy": "2022-10-24T16:10:18.081262Z",
     "iopub.status.idle": "2022-10-24T16:10:18.092887Z",
     "shell.execute_reply": "2022-10-24T16:10:18.091438Z",
     "shell.execute_reply.started": "2022-10-24T16:10:18.082136Z"
    }
   },
   "outputs": [],
   "source": [
    "class CFG:\n",
    "    FOLDS = 5\n",
    "    seed = 10\n",
    "    TARGET = 'limite_adicional'\n",
    "def seed_everything(seed):\n",
    "    random.seed(seed)\n",
    "    os.environ['PYTHONHASHSEED'] = str(seed)\n",
    "    np.random.seed(seed)\n",
    "\n",
    "seed_everything(seed = CFG.seed)"
   ]
  },
  {
   "cell_type": "markdown",
   "metadata": {},
   "source": [
    "# 2.0 EDA"
   ]
  },
  {
   "cell_type": "code",
   "execution_count": null,
   "metadata": {},
   "outputs": [],
   "source": [
    "Essa análise se encontra em : eda-which-matters.ipynb"
   ]
  },
  {
   "cell_type": "markdown",
   "metadata": {},
   "source": [
    "# 3.0 Feature Engineering"
   ]
  },
  {
   "cell_type": "markdown",
   "metadata": {},
   "source": [
    "## 3.1 Classical Features"
   ]
  },
  {
   "cell_type": "code",
   "execution_count": 5,
   "metadata": {
    "ExecuteTime": {
     "end_time": "2023-01-15T00:27:58.763486Z",
     "start_time": "2023-01-15T00:27:58.754491Z"
    },
    "execution": {
     "iopub.execute_input": "2022-10-24T16:10:19.035693Z",
     "iopub.status.busy": "2022-10-24T16:10:19.034455Z",
     "iopub.status.idle": "2022-10-24T16:10:19.041002Z",
     "shell.execute_reply": "2022-10-24T16:10:19.03998Z",
     "shell.execute_reply.started": "2022-10-24T16:10:19.03564Z"
    }
   },
   "outputs": [],
   "source": [
    "rs = RobustScaler()\n",
    "ss = StandardScaler()\n",
    "mm = MinMaxScaler()\n",
    "le = LabelEncoder()"
   ]
  },
  {
   "cell_type": "code",
   "execution_count": 6,
   "metadata": {
    "ExecuteTime": {
     "end_time": "2023-01-15T00:28:00.275352Z",
     "start_time": "2023-01-15T00:28:00.250368Z"
    },
    "execution": {
     "iopub.execute_input": "2022-10-24T16:10:19.246954Z",
     "iopub.status.busy": "2022-10-24T16:10:19.246203Z",
     "iopub.status.idle": "2022-10-24T16:10:19.260589Z",
     "shell.execute_reply": "2022-10-24T16:10:19.259535Z",
     "shell.execute_reply.started": "2022-10-24T16:10:19.24691Z"
    }
   },
   "outputs": [],
   "source": [
    "def create_features(df):\n",
    "    \"\"\"\n",
    "    Adds features to dfing or test set.   \n",
    "    \"\"\"\n",
    "    \n",
    "    ###################################### OUTLIER PROCESSING ######################################\n",
    "    \n",
    "#     df['renda_anual'] = df['renda_anual'].apply(lambda x: )    \n",
    "#     df[out_col] = ss.fit_transform(df[out_col])\n",
    "\n",
    "\n",
    "    ### FLOAT COLUMNS\n",
    "    \n",
    "#     df['saldo_atual'] = df['saldo_atual'].apply(lambda x: x.mean() if x == 337.17 else x)\n",
    "    df['renda_anual'] = df['renda_anual'].apply(lambda x: (200_000 + 3*38370) if x > 200_000 else x)\n",
    "    df['valor_em_investimentos'] = df['valor_em_investimentos'].apply(lambda x: 188.50 if x == 10_000 else x)\n",
    "    \n",
    "    \n",
    "#     df['saldo_atual'] = ss.fit_transform(df[['saldo_atual']].values)\n",
    "#     df['renda_anual'] = ss.fit_transform(df[['renda_anual']].values)\n",
    "#     df['valor_em_investimentos'] = ss.fit_transform(df[['valor_em_investimentos']].values)\n",
    "    \n",
    "    df['taxa_utilizacao_credito'] = ss.fit_transform(df[['taxa_utilizacao_credito']].values)\n",
    "       \n",
    "    ### INT COLUMNS\n",
    "    # Changed outliers for each df[col].median() without them, check EDA session.\n",
    "    \n",
    "    df['taxa_juros'] = df['taxa_juros'].apply(lambda x: 13 if x > 40 else x)\n",
    "    df['num_consultas_credito'] = df['num_consultas_credito'].apply(lambda x: 4 if x > 12 else x)\n",
    "    df['idade'] = df['idade'].apply(lambda x: 38 if x > 101 else x)\n",
    "    df['num_cartoes_credito'] = df['num_cartoes_credito'].apply(lambda x: 5 if x > 11 else x)\n",
    "    df['num_emprestimos'] = df['num_emprestimos'].apply(lambda x: 3 if x >= 100 else x) \n",
    "    df['num_contas_bancarias'] = df['num_contas_bancarias'].apply(lambda x: 6 if x > 11 else x)\n",
    "    df['num_pgtos_atrasados'] = df['num_pgtos_atrasados'].apply(lambda x: 14 if x > 28 else x)   \n",
    "    \n",
    "    \n",
    "    \n",
    "    ### Contabeis\n",
    "    \n",
    "#     df['saldo_ano'] = df['renda_anual'] - df['saldo_atual']\n",
    "#     df['potencial'] = df['saldo_atual'] / df['divida_atual']\n",
    "    \n",
    "    \n",
    "#     df['niveis_atraso'] = df['dias_atraso_dt_venc'].apply(lambda x: 'Ok'       if x <= 5 else \n",
    "#                                                                     'Atrasado' if x <= 30 else\n",
    "#                                                                     'Inadimplente' if x <= 60 else 'Critico')\n",
    "    \n",
    "        \n",
    "\n",
    "    ###################################### FEATURE ENGINEERING ######################################  \n",
    "    \n",
    "    df['investe_exterior'] = df['investe_exterior'].replace(['Não', 'Sim'], [0, 1])\n",
    "    df['pessoa_polit_exp'] = df['pessoa_polit_exp'].replace(['Não', 'Sim'], [0, 1])\n",
    "    df['limite_adicional'] = df['limite_adicional'].apply(lambda x: 0 if x == 'Negar' else 1)\n",
    "    \n",
    "    \n",
    "    \n",
    "#     df['idade_bucket'] = df['idade'].apply(lambda x: \"Jovem\" if x <= 25 else\n",
    "#                                                             \"Adulto\" if x <= 38 else\n",
    "#                                                              \"Coroa\" if x < 55 else \"Velho\")\n",
    "    \n",
    "    \n",
    "#     df['status'] = df['num_cartoes_credito'].apply(lambda x:    'Normal'       if x <= 4 else \n",
    "#                                                                 'Rico' if x <= 5 else\n",
    "#                                                                 'Playboy' if x <= 7 else 'Galatico')\n",
    "    \n",
    "\n",
    "    \n",
    "#     df = pd.get_dummies(df,prefix=['niveis_atraso'], columns=['niveis_atraso'], drop_first=False)\n",
    "#     df = pd.get_dummies(df,prefix=['status'], columns=['status'], drop_first=False)\n",
    "#     df = pd.get_dummies(df,prefix=['age'], columns=['idade_bucket'], drop_first=False)\n",
    "\n",
    "\n",
    "                                                                            \n",
    "#     df['renda_mensal'] = df['renda_anual'] / 12\n",
    "#     df['responsabilidade_cliente'] = df.apply(lambda x: 0 if x['renda_mensal'] < x['divida_atual'] else 1, axis = 1)\n",
    "    \n",
    "\n",
    "    \n",
    "    return df\n"
   ]
  },
  {
   "cell_type": "code",
   "execution_count": 8,
   "metadata": {
    "ExecuteTime": {
     "end_time": "2023-01-15T00:28:42.937605Z",
     "start_time": "2023-01-15T00:28:42.779130Z"
    },
    "execution": {
     "iopub.execute_input": "2022-10-24T16:10:20.542993Z",
     "iopub.status.busy": "2022-10-24T16:10:20.542516Z",
     "iopub.status.idle": "2022-10-24T16:10:20.733187Z",
     "shell.execute_reply": "2022-10-24T16:10:20.732035Z",
     "shell.execute_reply.started": "2022-10-24T16:10:20.542947Z"
    }
   },
   "outputs": [
    {
     "name": "stdout",
     "output_type": "stream",
     "text": [
      "CPU times: total: 78.1 ms\n",
      "Wall time: 123 ms\n"
     ]
    }
   ],
   "source": [
    "%%time\n",
    "\n",
    "train = pd.read_csv('data/train.csv')\n",
    "test = pd.read_csv('data/test.csv')\n",
    "df_sub = test[['id_cliente']].copy()\n",
    "\n",
    "train['isTrain'] = True\n",
    "test['isTrain'] = False\n",
    "tt = pd.concat([train, test]).reset_index(drop=True).copy()\n",
    "tt = create_features(tt)\n",
    "train = tt.query('isTrain').reset_index(drop=True).copy()\n",
    "test = tt.query('isTrain == False').reset_index(drop=True).copy()"
   ]
  },
  {
   "cell_type": "code",
   "execution_count": 9,
   "metadata": {
    "ExecuteTime": {
     "end_time": "2023-01-15T00:28:46.533079Z",
     "start_time": "2023-01-15T00:28:46.523085Z"
    },
    "execution": {
     "iopub.execute_input": "2022-10-24T16:10:20.765788Z",
     "iopub.status.busy": "2022-10-24T16:10:20.765328Z",
     "iopub.status.idle": "2022-10-24T16:10:20.774248Z",
     "shell.execute_reply": "2022-10-24T16:10:20.77265Z",
     "shell.execute_reply.started": "2022-10-24T16:10:20.765749Z"
    }
   },
   "outputs": [
    {
     "data": {
      "text/plain": [
       "((9500, 18), (3000, 18))"
      ]
     },
     "execution_count": 9,
     "metadata": {},
     "output_type": "execute_result"
    }
   ],
   "source": [
    "train.shape, test.shape"
   ]
  },
  {
   "cell_type": "markdown",
   "metadata": {},
   "source": [
    "## 3.2 Agg Features"
   ]
  },
  {
   "cell_type": "markdown",
   "metadata": {},
   "source": [
    "### Agg Float Cols Stats"
   ]
  },
  {
   "cell_type": "code",
   "execution_count": 10,
   "metadata": {
    "ExecuteTime": {
     "end_time": "2023-01-15T00:28:50.867087Z",
     "start_time": "2023-01-15T00:28:50.850097Z"
    },
    "execution": {
     "iopub.execute_input": "2022-10-24T16:10:22.259963Z",
     "iopub.status.busy": "2022-10-24T16:10:22.259508Z",
     "iopub.status.idle": "2022-10-24T16:10:22.270945Z",
     "shell.execute_reply": "2022-10-24T16:10:22.269568Z",
     "shell.execute_reply.started": "2022-10-24T16:10:22.259924Z"
    }
   },
   "outputs": [
    {
     "data": {
      "text/plain": [
       "['saldo_atual',\n",
       " 'divida_atual',\n",
       " 'renda_anual',\n",
       " 'valor_em_investimentos',\n",
       " 'taxa_utilizacao_credito']"
      ]
     },
     "execution_count": 10,
     "metadata": {},
     "output_type": "execute_result"
    }
   ],
   "source": [
    "numerical_col = [col for col in train.columns if train[col].dtype == 'float64']\n",
    "numerical_col"
   ]
  },
  {
   "cell_type": "code",
   "execution_count": 11,
   "metadata": {
    "ExecuteTime": {
     "end_time": "2023-01-15T00:28:51.827306Z",
     "start_time": "2023-01-15T00:28:51.770043Z"
    },
    "execution": {
     "iopub.execute_input": "2022-10-24T16:12:05.167466Z",
     "iopub.status.busy": "2022-10-24T16:12:05.166195Z",
     "iopub.status.idle": "2022-10-24T16:12:05.21331Z",
     "shell.execute_reply": "2022-10-24T16:12:05.211396Z",
     "shell.execute_reply.started": "2022-10-24T16:12:05.167411Z"
    }
   },
   "outputs": [
    {
     "data": {
      "text/html": [
       "<div>\n",
       "<style scoped>\n",
       "    .dataframe tbody tr th:only-of-type {\n",
       "        vertical-align: middle;\n",
       "    }\n",
       "\n",
       "    .dataframe tbody tr th {\n",
       "        vertical-align: top;\n",
       "    }\n",
       "\n",
       "    .dataframe thead th {\n",
       "        text-align: right;\n",
       "    }\n",
       "</style>\n",
       "<table border=\"1\" class=\"dataframe\">\n",
       "  <thead>\n",
       "    <tr style=\"text-align: right;\">\n",
       "      <th></th>\n",
       "      <th>saldo_atual_mean</th>\n",
       "      <th>saldo_atual_std</th>\n",
       "      <th>saldo_atual_min</th>\n",
       "      <th>saldo_atual_max</th>\n",
       "      <th>divida_atual_mean</th>\n",
       "      <th>divida_atual_std</th>\n",
       "      <th>divida_atual_min</th>\n",
       "      <th>divida_atual_max</th>\n",
       "      <th>renda_anual_mean</th>\n",
       "      <th>renda_anual_std</th>\n",
       "      <th>renda_anual_min</th>\n",
       "      <th>renda_anual_max</th>\n",
       "      <th>valor_em_investimentos_mean</th>\n",
       "      <th>valor_em_investimentos_std</th>\n",
       "      <th>valor_em_investimentos_min</th>\n",
       "      <th>valor_em_investimentos_max</th>\n",
       "      <th>taxa_utilizacao_credito_mean</th>\n",
       "      <th>taxa_utilizacao_credito_std</th>\n",
       "      <th>taxa_utilizacao_credito_min</th>\n",
       "      <th>taxa_utilizacao_credito_max</th>\n",
       "    </tr>\n",
       "    <tr>\n",
       "      <th>id_cliente</th>\n",
       "      <th></th>\n",
       "      <th></th>\n",
       "      <th></th>\n",
       "      <th></th>\n",
       "      <th></th>\n",
       "      <th></th>\n",
       "      <th></th>\n",
       "      <th></th>\n",
       "      <th></th>\n",
       "      <th></th>\n",
       "      <th></th>\n",
       "      <th></th>\n",
       "      <th></th>\n",
       "      <th></th>\n",
       "      <th></th>\n",
       "      <th></th>\n",
       "      <th></th>\n",
       "      <th></th>\n",
       "      <th></th>\n",
       "      <th></th>\n",
       "    </tr>\n",
       "  </thead>\n",
       "  <tbody>\n",
       "    <tr>\n",
       "      <th>1</th>\n",
       "      <td>312.49409</td>\n",
       "      <td>NaN</td>\n",
       "      <td>312.49409</td>\n",
       "      <td>312.49409</td>\n",
       "      <td>809.98000</td>\n",
       "      <td>NaN</td>\n",
       "      <td>809.98000</td>\n",
       "      <td>809.98000</td>\n",
       "      <td>25823.17612</td>\n",
       "      <td>NaN</td>\n",
       "      <td>25823.17612</td>\n",
       "      <td>25823.17612</td>\n",
       "      <td>80.41530</td>\n",
       "      <td>NaN</td>\n",
       "      <td>80.41530</td>\n",
       "      <td>80.41530</td>\n",
       "      <td>-1.07577</td>\n",
       "      <td>NaN</td>\n",
       "      <td>-1.07577</td>\n",
       "      <td>-1.07577</td>\n",
       "    </tr>\n",
       "    <tr>\n",
       "      <th>3</th>\n",
       "      <td>1043.31598</td>\n",
       "      <td>NaN</td>\n",
       "      <td>1043.31598</td>\n",
       "      <td>1043.31598</td>\n",
       "      <td>1303.01000</td>\n",
       "      <td>NaN</td>\n",
       "      <td>1303.01000</td>\n",
       "      <td>1303.01000</td>\n",
       "      <td>148459.65768</td>\n",
       "      <td>NaN</td>\n",
       "      <td>148459.65768</td>\n",
       "      <td>148459.65768</td>\n",
       "      <td>168.41370</td>\n",
       "      <td>NaN</td>\n",
       "      <td>168.41370</td>\n",
       "      <td>168.41370</td>\n",
       "      <td>-0.72288</td>\n",
       "      <td>NaN</td>\n",
       "      <td>-0.72288</td>\n",
       "      <td>-0.72288</td>\n",
       "    </tr>\n",
       "    <tr>\n",
       "      <th>4</th>\n",
       "      <td>433.60477</td>\n",
       "      <td>NaN</td>\n",
       "      <td>433.60477</td>\n",
       "      <td>433.60477</td>\n",
       "      <td>632.46000</td>\n",
       "      <td>NaN</td>\n",
       "      <td>632.46000</td>\n",
       "      <td>632.46000</td>\n",
       "      <td>41462.04139</td>\n",
       "      <td>NaN</td>\n",
       "      <td>41462.04139</td>\n",
       "      <td>41462.04139</td>\n",
       "      <td>81.22886</td>\n",
       "      <td>NaN</td>\n",
       "      <td>81.22886</td>\n",
       "      <td>81.22886</td>\n",
       "      <td>-1.13052</td>\n",
       "      <td>NaN</td>\n",
       "      <td>-1.13052</td>\n",
       "      <td>-1.13052</td>\n",
       "    </tr>\n",
       "    <tr>\n",
       "      <th>7</th>\n",
       "      <td>858.46247</td>\n",
       "      <td>NaN</td>\n",
       "      <td>858.46247</td>\n",
       "      <td>858.46247</td>\n",
       "      <td>352.16000</td>\n",
       "      <td>NaN</td>\n",
       "      <td>352.16000</td>\n",
       "      <td>352.16000</td>\n",
       "      <td>136171.99580</td>\n",
       "      <td>NaN</td>\n",
       "      <td>136171.99580</td>\n",
       "      <td>136171.99580</td>\n",
       "      <td>378.17125</td>\n",
       "      <td>NaN</td>\n",
       "      <td>378.17125</td>\n",
       "      <td>378.17125</td>\n",
       "      <td>-0.01799</td>\n",
       "      <td>NaN</td>\n",
       "      <td>-0.01799</td>\n",
       "      <td>-0.01799</td>\n",
       "    </tr>\n",
       "    <tr>\n",
       "      <th>9</th>\n",
       "      <td>802.30044</td>\n",
       "      <td>NaN</td>\n",
       "      <td>802.30044</td>\n",
       "      <td>802.30044</td>\n",
       "      <td>1377.74000</td>\n",
       "      <td>NaN</td>\n",
       "      <td>1377.74000</td>\n",
       "      <td>1377.74000</td>\n",
       "      <td>122417.74506</td>\n",
       "      <td>NaN</td>\n",
       "      <td>122417.74506</td>\n",
       "      <td>122417.74506</td>\n",
       "      <td>215.19352</td>\n",
       "      <td>NaN</td>\n",
       "      <td>215.19352</td>\n",
       "      <td>215.19352</td>\n",
       "      <td>0.26998</td>\n",
       "      <td>NaN</td>\n",
       "      <td>0.26998</td>\n",
       "      <td>0.26998</td>\n",
       "    </tr>\n",
       "  </tbody>\n",
       "</table>\n",
       "</div>"
      ],
      "text/plain": [
       "            saldo_atual_mean  saldo_atual_std  saldo_atual_min  saldo_atual_max  divida_atual_mean  divida_atual_std  divida_atual_min  divida_atual_max  renda_anual_mean  renda_anual_std  renda_anual_min  renda_anual_max  valor_em_investimentos_mean  valor_em_investimentos_std  valor_em_investimentos_min  valor_em_investimentos_max  taxa_utilizacao_credito_mean  taxa_utilizacao_credito_std  taxa_utilizacao_credito_min  taxa_utilizacao_credito_max\n",
       "id_cliente                                                                                                                                                                                                                                                                                                                                                                                                                                                         \n",
       "1                  312.49409              NaN        312.49409        312.49409          809.98000               NaN         809.98000         809.98000       25823.17612              NaN      25823.17612      25823.17612                     80.41530                         NaN                    80.41530                    80.41530                      -1.07577                          NaN                     -1.07577                     -1.07577\n",
       "3                 1043.31598              NaN       1043.31598       1043.31598         1303.01000               NaN        1303.01000        1303.01000      148459.65768              NaN     148459.65768     148459.65768                    168.41370                         NaN                   168.41370                   168.41370                      -0.72288                          NaN                     -0.72288                     -0.72288\n",
       "4                  433.60477              NaN        433.60477        433.60477          632.46000               NaN         632.46000         632.46000       41462.04139              NaN      41462.04139      41462.04139                     81.22886                         NaN                    81.22886                    81.22886                      -1.13052                          NaN                     -1.13052                     -1.13052\n",
       "7                  858.46247              NaN        858.46247        858.46247          352.16000               NaN         352.16000         352.16000      136171.99580              NaN     136171.99580     136171.99580                    378.17125                         NaN                   378.17125                   378.17125                      -0.01799                          NaN                     -0.01799                     -0.01799\n",
       "9                  802.30044              NaN        802.30044        802.30044         1377.74000               NaN        1377.74000        1377.74000      122417.74506              NaN     122417.74506     122417.74506                    215.19352                         NaN                   215.19352                   215.19352                       0.26998                          NaN                      0.26998                      0.26998"
      ]
     },
     "execution_count": 11,
     "metadata": {},
     "output_type": "execute_result"
    }
   ],
   "source": [
    "train_num_agg = train.groupby(\"id_cliente\")[numerical_col].agg(['mean', 'std', 'min', 'max'])\n",
    "train_num_agg.columns = ['_'.join(x) for x in train_num_agg.columns]\n",
    "train_num_agg.head()"
   ]
  },
  {
   "cell_type": "code",
   "execution_count": 12,
   "metadata": {
    "ExecuteTime": {
     "end_time": "2023-01-15T00:28:54.935994Z",
     "start_time": "2023-01-15T00:28:54.922002Z"
    },
    "execution": {
     "iopub.execute_input": "2022-10-24T16:12:07.46209Z",
     "iopub.status.busy": "2022-10-24T16:12:07.461658Z",
     "iopub.status.idle": "2022-10-24T16:12:07.469747Z",
     "shell.execute_reply": "2022-10-24T16:12:07.468586Z",
     "shell.execute_reply.started": "2022-10-24T16:12:07.462051Z"
    }
   },
   "outputs": [
    {
     "data": {
      "text/plain": [
       "((9500, 18), (9500, 20))"
      ]
     },
     "execution_count": 12,
     "metadata": {},
     "output_type": "execute_result"
    }
   ],
   "source": [
    "train.shape, train_num_agg.shape"
   ]
  },
  {
   "cell_type": "code",
   "execution_count": 13,
   "metadata": {
    "ExecuteTime": {
     "end_time": "2023-01-15T00:28:55.719998Z",
     "start_time": "2023-01-15T00:28:55.698012Z"
    },
    "execution": {
     "iopub.execute_input": "2022-10-24T16:13:02.241648Z",
     "iopub.status.busy": "2022-10-24T16:13:02.240151Z",
     "iopub.status.idle": "2022-10-24T16:13:02.258819Z",
     "shell.execute_reply": "2022-10-24T16:13:02.257389Z",
     "shell.execute_reply.started": "2022-10-24T16:13:02.24159Z"
    }
   },
   "outputs": [],
   "source": [
    "train_aux = pd.merge(left=train, right=train_num_agg, how='left', on='id_cliente')"
   ]
  },
  {
   "cell_type": "code",
   "execution_count": 14,
   "metadata": {
    "ExecuteTime": {
     "end_time": "2023-01-15T00:28:56.625700Z",
     "start_time": "2023-01-15T00:28:56.594018Z"
    },
    "execution": {
     "iopub.execute_input": "2022-10-24T16:13:02.448695Z",
     "iopub.status.busy": "2022-10-24T16:13:02.448288Z",
     "iopub.status.idle": "2022-10-24T16:13:02.465305Z",
     "shell.execute_reply": "2022-10-24T16:13:02.463731Z",
     "shell.execute_reply.started": "2022-10-24T16:13:02.448663Z"
    }
   },
   "outputs": [],
   "source": [
    "train_aux.dropna(axis=1, inplace=True)"
   ]
  },
  {
   "cell_type": "code",
   "execution_count": 15,
   "metadata": {
    "ExecuteTime": {
     "end_time": "2023-01-15T00:28:57.400884Z",
     "start_time": "2023-01-15T00:28:57.369903Z"
    },
    "execution": {
     "iopub.execute_input": "2022-10-24T16:13:05.245501Z",
     "iopub.status.busy": "2022-10-24T16:13:05.245033Z",
     "iopub.status.idle": "2022-10-24T16:13:05.268706Z",
     "shell.execute_reply": "2022-10-24T16:13:05.267549Z",
     "shell.execute_reply.started": "2022-10-24T16:13:05.245462Z"
    }
   },
   "outputs": [],
   "source": [
    "test_num_agg = test.groupby(\"id_cliente\")[numerical_col].agg(['mean', 'std', 'min', 'max'])\n",
    "test_num_agg.columns = ['_'.join(x) for x in test_num_agg.columns]"
   ]
  },
  {
   "cell_type": "code",
   "execution_count": 16,
   "metadata": {
    "ExecuteTime": {
     "end_time": "2023-01-15T00:28:58.215868Z",
     "start_time": "2023-01-15T00:28:58.201877Z"
    },
    "execution": {
     "iopub.execute_input": "2022-10-24T16:13:05.496878Z",
     "iopub.status.busy": "2022-10-24T16:13:05.496472Z",
     "iopub.status.idle": "2022-10-24T16:13:05.507155Z",
     "shell.execute_reply": "2022-10-24T16:13:05.505941Z",
     "shell.execute_reply.started": "2022-10-24T16:13:05.496846Z"
    }
   },
   "outputs": [],
   "source": [
    "test_aux = pd.merge(left=test, right=test_num_agg, how='left', on='id_cliente')"
   ]
  },
  {
   "cell_type": "code",
   "execution_count": 17,
   "metadata": {
    "ExecuteTime": {
     "end_time": "2023-01-15T00:28:58.966919Z",
     "start_time": "2023-01-15T00:28:58.945931Z"
    },
    "execution": {
     "iopub.execute_input": "2022-10-24T16:13:05.833218Z",
     "iopub.status.busy": "2022-10-24T16:13:05.832804Z",
     "iopub.status.idle": "2022-10-24T16:13:05.84423Z",
     "shell.execute_reply": "2022-10-24T16:13:05.842888Z",
     "shell.execute_reply.started": "2022-10-24T16:13:05.833183Z"
    }
   },
   "outputs": [],
   "source": [
    "test_aux.dropna(axis=1, inplace=True)"
   ]
  },
  {
   "cell_type": "code",
   "execution_count": 18,
   "metadata": {
    "ExecuteTime": {
     "end_time": "2023-01-15T00:28:59.966017Z",
     "start_time": "2023-01-15T00:28:59.946027Z"
    },
    "execution": {
     "iopub.execute_input": "2022-10-24T16:13:06.560942Z",
     "iopub.status.busy": "2022-10-24T16:13:06.560522Z",
     "iopub.status.idle": "2022-10-24T16:13:06.568512Z",
     "shell.execute_reply": "2022-10-24T16:13:06.567128Z",
     "shell.execute_reply.started": "2022-10-24T16:13:06.560905Z"
    }
   },
   "outputs": [
    {
     "data": {
      "text/plain": [
       "((9500, 33), (3000, 33))"
      ]
     },
     "execution_count": 18,
     "metadata": {},
     "output_type": "execute_result"
    }
   ],
   "source": [
    "train_aux.shape, test_aux.shape"
   ]
  },
  {
   "cell_type": "markdown",
   "metadata": {},
   "source": [
    "### Agg Categorical Cols"
   ]
  },
  {
   "cell_type": "markdown",
   "metadata": {},
   "source": [
    "I didnt check it out how these features perform yet, should give them a try."
   ]
  },
  {
   "cell_type": "code",
   "execution_count": 20,
   "metadata": {
    "ExecuteTime": {
     "end_time": "2023-01-15T00:29:28.119748Z",
     "start_time": "2023-01-15T00:29:28.106756Z"
    }
   },
   "outputs": [],
   "source": [
    "# train_cat_agg = train.groupby(\"customer_ID\")[cat_features].agg(['count', 'last', 'nunique'])\n",
    "# train_cat_agg.columns = ['_'.join(x) for x in train_cat_agg.columns]"
   ]
  },
  {
   "cell_type": "code",
   "execution_count": 22,
   "metadata": {
    "ExecuteTime": {
     "end_time": "2023-01-15T00:29:34.121703Z",
     "start_time": "2023-01-15T00:29:34.105713Z"
    }
   },
   "outputs": [],
   "source": [
    "# train_aux2 = pd.merge(left=train, right=train_cat_agg, how='left', on='id_cliente')"
   ]
  },
  {
   "cell_type": "markdown",
   "metadata": {},
   "source": [
    "# 4.0 Modeling"
   ]
  },
  {
   "cell_type": "markdown",
   "metadata": {},
   "source": [
    "I tried Stratified KFold Cross-Validation but my best performance submission was an ensemble of 2 models, LGBM and XGB, without using cross-validation method."
   ]
  },
  {
   "cell_type": "markdown",
   "metadata": {},
   "source": [
    "## 4.1 Feature Selection"
   ]
  },
  {
   "cell_type": "code",
   "execution_count": 23,
   "metadata": {
    "ExecuteTime": {
     "end_time": "2023-01-15T00:29:36.418684Z",
     "start_time": "2023-01-15T00:29:36.409689Z"
    }
   },
   "outputs": [],
   "source": [
    "# X = train.copy()\n",
    "# y = train['limite_adicional']\n",
    "\n",
    "X = train_aux.copy()\n",
    "y = train_aux['limite_adicional']"
   ]
  },
  {
   "cell_type": "code",
   "execution_count": 24,
   "metadata": {
    "ExecuteTime": {
     "end_time": "2023-01-15T00:29:37.418683Z",
     "start_time": "2023-01-15T00:29:37.409689Z"
    }
   },
   "outputs": [
    {
     "name": "stdout",
     "output_type": "stream",
     "text": [
      "Using ...\n",
      "\n",
      "...27 features.\n",
      "\n"
     ]
    }
   ],
   "source": [
    "FEATURES = [\n",
    "#        'id_cliente',\n",
    "    'idade', \n",
    "    'saldo_atual',\n",
    "    'divida_atual',\n",
    "    'renda_anual',\n",
    "    'valor_em_investimentos', \n",
    "    'taxa_utilizacao_credito', \n",
    "    'num_emprestimos',\n",
    "    'num_contas_bancarias', \n",
    "    'num_cartoes_credito', \n",
    "    'dias_atraso_dt_venc',\n",
    "    'num_pgtos_atrasados', \n",
    "    'num_consultas_credito', \n",
    "    'taxa_juros',\n",
    "    'investe_exterior', \n",
    "    'pessoa_polit_exp', \n",
    "#        'limite_adicional', \n",
    "#        'isTrain',\n",
    "   'saldo_atual_mean',\n",
    "    'saldo_atual_min', \n",
    "    'saldo_atual_max',\n",
    "   'divida_atual_mean', \n",
    "    'divida_atual_min', \n",
    "    'divida_atual_max',\n",
    "   'renda_anual_mean', \n",
    "    'renda_anual_min', \n",
    "    'renda_anual_max',\n",
    "   'valor_em_investimentos_mean', \n",
    "    'valor_em_investimentos_min',\n",
    "   'valor_em_investimentos_max', \n",
    "]\n",
    "\n",
    "TARGET = 'limite_adicional'\n",
    "ESTIMATORS = 500\n",
    "\n",
    "n_features = len(FEATURES)\n",
    "\n",
    "print('Using ...')\n",
    "print('')\n",
    "print(f'{n_features:.>5} features.')\n",
    "print('')"
   ]
  },
  {
   "cell_type": "markdown",
   "metadata": {},
   "source": [
    "## 4.2 First Impressions "
   ]
  },
  {
   "cell_type": "markdown",
   "metadata": {},
   "source": [
    "Checking which model performs best with just a simple train/test split of 20% for test_size."
   ]
  },
  {
   "cell_type": "code",
   "execution_count": 25,
   "metadata": {
    "ExecuteTime": {
     "end_time": "2023-01-15T00:29:42.503641Z",
     "start_time": "2023-01-15T00:29:42.489649Z"
    }
   },
   "outputs": [],
   "source": [
    "train['limite_adicional'] = train['limite_adicional'].replace(['Negar', 'Conceder'], [0, 1])"
   ]
  },
  {
   "cell_type": "code",
   "execution_count": 26,
   "metadata": {
    "ExecuteTime": {
     "end_time": "2023-01-15T00:29:43.252618Z",
     "start_time": "2023-01-15T00:29:43.233630Z"
    }
   },
   "outputs": [],
   "source": [
    "X['investe_exterior'] = X['investe_exterior'].replace(['Não', 'Sim'], [0, 1])\n",
    "X['pessoa_polit_exp'] = X['pessoa_polit_exp'].replace(['Não', 'Sim'], [0, 1])\n",
    "X['limite_adicional'] = X['limite_adicional'].replace(['Negar', 'Conceder'], [0, 1])"
   ]
  },
  {
   "cell_type": "code",
   "execution_count": 27,
   "metadata": {
    "ExecuteTime": {
     "end_time": "2023-01-15T00:29:43.869628Z",
     "start_time": "2023-01-15T00:29:43.849641Z"
    }
   },
   "outputs": [],
   "source": [
    "X_train, X_test, y_train, y_test = train_test_split(X[FEATURES], y, stratify = y, test_size=.2, random_state=CFG.seed)"
   ]
  },
  {
   "cell_type": "code",
   "execution_count": 28,
   "metadata": {
    "ExecuteTime": {
     "end_time": "2023-01-15T00:29:44.485613Z",
     "start_time": "2023-01-15T00:29:44.457629Z"
    }
   },
   "outputs": [
    {
     "data": {
      "text/html": [
       "<div>\n",
       "<style scoped>\n",
       "    .dataframe tbody tr th:only-of-type {\n",
       "        vertical-align: middle;\n",
       "    }\n",
       "\n",
       "    .dataframe tbody tr th {\n",
       "        vertical-align: top;\n",
       "    }\n",
       "\n",
       "    .dataframe thead th {\n",
       "        text-align: right;\n",
       "    }\n",
       "</style>\n",
       "<table border=\"1\" class=\"dataframe\">\n",
       "  <thead>\n",
       "    <tr style=\"text-align: right;\">\n",
       "      <th></th>\n",
       "      <th>id_cliente</th>\n",
       "      <th>idade</th>\n",
       "      <th>saldo_atual</th>\n",
       "      <th>divida_atual</th>\n",
       "      <th>renda_anual</th>\n",
       "      <th>valor_em_investimentos</th>\n",
       "      <th>taxa_utilizacao_credito</th>\n",
       "      <th>num_emprestimos</th>\n",
       "      <th>num_contas_bancarias</th>\n",
       "      <th>num_cartoes_credito</th>\n",
       "      <th>dias_atraso_dt_venc</th>\n",
       "      <th>num_pgtos_atrasados</th>\n",
       "      <th>num_consultas_credito</th>\n",
       "      <th>taxa_juros</th>\n",
       "      <th>investe_exterior</th>\n",
       "      <th>pessoa_polit_exp</th>\n",
       "      <th>limite_adicional</th>\n",
       "      <th>isTrain</th>\n",
       "      <th>saldo_atual_mean</th>\n",
       "      <th>saldo_atual_min</th>\n",
       "      <th>saldo_atual_max</th>\n",
       "      <th>divida_atual_mean</th>\n",
       "      <th>divida_atual_min</th>\n",
       "      <th>divida_atual_max</th>\n",
       "      <th>renda_anual_mean</th>\n",
       "      <th>renda_anual_min</th>\n",
       "      <th>renda_anual_max</th>\n",
       "      <th>valor_em_investimentos_mean</th>\n",
       "      <th>valor_em_investimentos_min</th>\n",
       "      <th>valor_em_investimentos_max</th>\n",
       "      <th>taxa_utilizacao_credito_mean</th>\n",
       "      <th>taxa_utilizacao_credito_min</th>\n",
       "      <th>taxa_utilizacao_credito_max</th>\n",
       "    </tr>\n",
       "  </thead>\n",
       "  <tbody>\n",
       "    <tr>\n",
       "      <th>0</th>\n",
       "      <td>1767</td>\n",
       "      <td>21</td>\n",
       "      <td>278.17201</td>\n",
       "      <td>2577.05000</td>\n",
       "      <td>24196.89636</td>\n",
       "      <td>104.30654</td>\n",
       "      <td>-0.24649</td>\n",
       "      <td>6</td>\n",
       "      <td>5</td>\n",
       "      <td>7</td>\n",
       "      <td>21</td>\n",
       "      <td>14</td>\n",
       "      <td>9</td>\n",
       "      <td>15</td>\n",
       "      <td>0</td>\n",
       "      <td>0</td>\n",
       "      <td>0</td>\n",
       "      <td>True</td>\n",
       "      <td>278.17201</td>\n",
       "      <td>278.17201</td>\n",
       "      <td>278.17201</td>\n",
       "      <td>2577.05000</td>\n",
       "      <td>2577.05000</td>\n",
       "      <td>2577.05000</td>\n",
       "      <td>24196.89636</td>\n",
       "      <td>24196.89636</td>\n",
       "      <td>24196.89636</td>\n",
       "      <td>104.30654</td>\n",
       "      <td>104.30654</td>\n",
       "      <td>104.30654</td>\n",
       "      <td>-0.24649</td>\n",
       "      <td>-0.24649</td>\n",
       "      <td>-0.24649</td>\n",
       "    </tr>\n",
       "    <tr>\n",
       "      <th>1</th>\n",
       "      <td>11920</td>\n",
       "      <td>40</td>\n",
       "      <td>268.87415</td>\n",
       "      <td>2465.39000</td>\n",
       "      <td>19227.37796</td>\n",
       "      <td>69.85878</td>\n",
       "      <td>0.90972</td>\n",
       "      <td>5</td>\n",
       "      <td>8</td>\n",
       "      <td>5</td>\n",
       "      <td>40</td>\n",
       "      <td>23</td>\n",
       "      <td>10</td>\n",
       "      <td>18</td>\n",
       "      <td>0</td>\n",
       "      <td>0</td>\n",
       "      <td>0</td>\n",
       "      <td>True</td>\n",
       "      <td>268.87415</td>\n",
       "      <td>268.87415</td>\n",
       "      <td>268.87415</td>\n",
       "      <td>2465.39000</td>\n",
       "      <td>2465.39000</td>\n",
       "      <td>2465.39000</td>\n",
       "      <td>19227.37796</td>\n",
       "      <td>19227.37796</td>\n",
       "      <td>19227.37796</td>\n",
       "      <td>69.85878</td>\n",
       "      <td>69.85878</td>\n",
       "      <td>69.85878</td>\n",
       "      <td>0.90972</td>\n",
       "      <td>0.90972</td>\n",
       "      <td>0.90972</td>\n",
       "    </tr>\n",
       "    <tr>\n",
       "      <th>2</th>\n",
       "      <td>8910</td>\n",
       "      <td>36</td>\n",
       "      <td>446.64313</td>\n",
       "      <td>1055.29000</td>\n",
       "      <td>42822.28223</td>\n",
       "      <td>134.20148</td>\n",
       "      <td>0.44644</td>\n",
       "      <td>0</td>\n",
       "      <td>3</td>\n",
       "      <td>6</td>\n",
       "      <td>26</td>\n",
       "      <td>13</td>\n",
       "      <td>3</td>\n",
       "      <td>15</td>\n",
       "      <td>1</td>\n",
       "      <td>0</td>\n",
       "      <td>0</td>\n",
       "      <td>True</td>\n",
       "      <td>446.64313</td>\n",
       "      <td>446.64313</td>\n",
       "      <td>446.64313</td>\n",
       "      <td>1055.29000</td>\n",
       "      <td>1055.29000</td>\n",
       "      <td>1055.29000</td>\n",
       "      <td>42822.28223</td>\n",
       "      <td>42822.28223</td>\n",
       "      <td>42822.28223</td>\n",
       "      <td>134.20148</td>\n",
       "      <td>134.20148</td>\n",
       "      <td>134.20148</td>\n",
       "      <td>0.44644</td>\n",
       "      <td>0.44644</td>\n",
       "      <td>0.44644</td>\n",
       "    </tr>\n",
       "    <tr>\n",
       "      <th>3</th>\n",
       "      <td>4964</td>\n",
       "      <td>58</td>\n",
       "      <td>321.14127</td>\n",
       "      <td>703.05000</td>\n",
       "      <td>51786.82600</td>\n",
       "      <td>297.35007</td>\n",
       "      <td>-0.15704</td>\n",
       "      <td>0</td>\n",
       "      <td>3</td>\n",
       "      <td>7</td>\n",
       "      <td>12</td>\n",
       "      <td>7</td>\n",
       "      <td>2</td>\n",
       "      <td>1</td>\n",
       "      <td>1</td>\n",
       "      <td>0</td>\n",
       "      <td>0</td>\n",
       "      <td>True</td>\n",
       "      <td>321.14127</td>\n",
       "      <td>321.14127</td>\n",
       "      <td>321.14127</td>\n",
       "      <td>703.05000</td>\n",
       "      <td>703.05000</td>\n",
       "      <td>703.05000</td>\n",
       "      <td>51786.82600</td>\n",
       "      <td>51786.82600</td>\n",
       "      <td>51786.82600</td>\n",
       "      <td>297.35007</td>\n",
       "      <td>297.35007</td>\n",
       "      <td>297.35007</td>\n",
       "      <td>-0.15704</td>\n",
       "      <td>-0.15704</td>\n",
       "      <td>-0.15704</td>\n",
       "    </tr>\n",
       "    <tr>\n",
       "      <th>4</th>\n",
       "      <td>10100</td>\n",
       "      <td>35</td>\n",
       "      <td>428.71611</td>\n",
       "      <td>891.29000</td>\n",
       "      <td>44626.85346</td>\n",
       "      <td>134.20148</td>\n",
       "      <td>-0.83850</td>\n",
       "      <td>2</td>\n",
       "      <td>8</td>\n",
       "      <td>7</td>\n",
       "      <td>24</td>\n",
       "      <td>10</td>\n",
       "      <td>8</td>\n",
       "      <td>20</td>\n",
       "      <td>1</td>\n",
       "      <td>0</td>\n",
       "      <td>0</td>\n",
       "      <td>True</td>\n",
       "      <td>428.71611</td>\n",
       "      <td>428.71611</td>\n",
       "      <td>428.71611</td>\n",
       "      <td>891.29000</td>\n",
       "      <td>891.29000</td>\n",
       "      <td>891.29000</td>\n",
       "      <td>44626.85346</td>\n",
       "      <td>44626.85346</td>\n",
       "      <td>44626.85346</td>\n",
       "      <td>134.20148</td>\n",
       "      <td>134.20148</td>\n",
       "      <td>134.20148</td>\n",
       "      <td>-0.83850</td>\n",
       "      <td>-0.83850</td>\n",
       "      <td>-0.83850</td>\n",
       "    </tr>\n",
       "  </tbody>\n",
       "</table>\n",
       "</div>"
      ],
      "text/plain": [
       "   id_cliente  idade  saldo_atual  divida_atual  renda_anual  valor_em_investimentos  taxa_utilizacao_credito  num_emprestimos  num_contas_bancarias  num_cartoes_credito  dias_atraso_dt_venc  num_pgtos_atrasados  num_consultas_credito  taxa_juros  investe_exterior  pessoa_polit_exp  limite_adicional  isTrain  saldo_atual_mean  saldo_atual_min  saldo_atual_max  divida_atual_mean  divida_atual_min  divida_atual_max  renda_anual_mean  renda_anual_min  renda_anual_max  valor_em_investimentos_mean  valor_em_investimentos_min  valor_em_investimentos_max  taxa_utilizacao_credito_mean  taxa_utilizacao_credito_min  taxa_utilizacao_credito_max\n",
       "0        1767     21    278.17201    2577.05000  24196.89636               104.30654                 -0.24649                6                     5                    7                   21                   14                      9          15                 0                 0                 0     True         278.17201        278.17201        278.17201         2577.05000        2577.05000        2577.05000       24196.89636      24196.89636      24196.89636                    104.30654                   104.30654                   104.30654                      -0.24649                     -0.24649                     -0.24649\n",
       "1       11920     40    268.87415    2465.39000  19227.37796                69.85878                  0.90972                5                     8                    5                   40                   23                     10          18                 0                 0                 0     True         268.87415        268.87415        268.87415         2465.39000        2465.39000        2465.39000       19227.37796      19227.37796      19227.37796                     69.85878                    69.85878                    69.85878                       0.90972                      0.90972                      0.90972\n",
       "2        8910     36    446.64313    1055.29000  42822.28223               134.20148                  0.44644                0                     3                    6                   26                   13                      3          15                 1                 0                 0     True         446.64313        446.64313        446.64313         1055.29000        1055.29000        1055.29000       42822.28223      42822.28223      42822.28223                    134.20148                   134.20148                   134.20148                       0.44644                      0.44644                      0.44644\n",
       "3        4964     58    321.14127     703.05000  51786.82600               297.35007                 -0.15704                0                     3                    7                   12                    7                      2           1                 1                 0                 0     True         321.14127        321.14127        321.14127          703.05000         703.05000         703.05000       51786.82600      51786.82600      51786.82600                    297.35007                   297.35007                   297.35007                      -0.15704                     -0.15704                     -0.15704\n",
       "4       10100     35    428.71611     891.29000  44626.85346               134.20148                 -0.83850                2                     8                    7                   24                   10                      8          20                 1                 0                 0     True         428.71611        428.71611        428.71611          891.29000         891.29000         891.29000       44626.85346      44626.85346      44626.85346                    134.20148                   134.20148                   134.20148                      -0.83850                     -0.83850                     -0.83850"
      ]
     },
     "execution_count": 28,
     "metadata": {},
     "output_type": "execute_result"
    }
   ],
   "source": [
    "X.head()"
   ]
  },
  {
   "cell_type": "code",
   "execution_count": 29,
   "metadata": {
    "ExecuteTime": {
     "end_time": "2023-01-15T00:29:45.470552Z",
     "start_time": "2023-01-15T00:29:45.457560Z"
    }
   },
   "outputs": [
    {
     "data": {
      "text/plain": [
       "0    0\n",
       "1    0\n",
       "2    0\n",
       "3    0\n",
       "4    0\n",
       "Name: limite_adicional, dtype: int64"
      ]
     },
     "execution_count": 29,
     "metadata": {},
     "output_type": "execute_result"
    }
   ],
   "source": [
    "y.head()"
   ]
  },
  {
   "cell_type": "code",
   "execution_count": 30,
   "metadata": {
    "ExecuteTime": {
     "end_time": "2023-01-15T00:29:46.396904Z",
     "start_time": "2023-01-15T00:29:46.209489Z"
    }
   },
   "outputs": [
    {
     "name": "stdout",
     "output_type": "stream",
     "text": [
      "\n",
      "Average Accuracy = 0.84737\n",
      "Average AUC = 0.61536\n",
      "Average F1-Score = 0.82627\n"
     ]
    }
   ],
   "source": [
    "logreg = LogisticRegression()\n",
    "\n",
    "logreg.fit(X_train, y_train)\n",
    "y_pred = logreg.predict(X_test)\n",
    "\n",
    "score    = roc_auc_score(y_test, y_pred)\n",
    "f1       = f1_score(y_test, y_pred, average='weighted')\n",
    "acc      = accuracy_score(y_test, y_pred)\n",
    "\n",
    "\n",
    "print(f'')\n",
    "print(f'Average Accuracy = {acc:.5f}' )\n",
    "print(f'Average AUC = {score:.5f}')\n",
    "print(f'Average F1-Score = {f1:.5f}')"
   ]
  },
  {
   "cell_type": "code",
   "execution_count": 31,
   "metadata": {
    "ExecuteTime": {
     "end_time": "2023-01-15T00:29:50.787324Z",
     "start_time": "2023-01-15T00:29:47.120533Z"
    }
   },
   "outputs": [
    {
     "name": "stdout",
     "output_type": "stream",
     "text": [
      "\n",
      "Average Accuracy = 0.86789\n",
      "Average AUC = 0.72195\n",
      "Average F1-Score = 0.86347\n"
     ]
    }
   ],
   "source": [
    "model_xgb = xgb.XGBClassifier(n_estimators=200)\n",
    "\n",
    "model_xgb.fit(X_train, y_train)\n",
    "y_pred = model_xgb.predict(X_test)\n",
    "\n",
    "score    = roc_auc_score(y_test, y_pred)\n",
    "f1       = f1_score(y_test, y_pred, average='weighted')\n",
    "acc      = accuracy_score(y_test, y_pred)\n",
    "\n",
    "\n",
    "print(f'')\n",
    "print(f'Average Accuracy = {acc:.5f}' )\n",
    "print(f'Average AUC = {score:.5f}')\n",
    "print(f'Average F1-Score = {f1:.5f}')"
   ]
  },
  {
   "cell_type": "code",
   "execution_count": 32,
   "metadata": {
    "ExecuteTime": {
     "end_time": "2023-01-15T00:29:53.572755Z",
     "start_time": "2023-01-15T00:29:53.177574Z"
    }
   },
   "outputs": [
    {
     "name": "stdout",
     "output_type": "stream",
     "text": [
      "\n",
      "Average Accuracy = 0.84737\n",
      "Average AUC = 0.61536\n",
      "Average F1-Score = 0.82627\n"
     ]
    }
   ],
   "source": [
    "model_lgbm = lgbm.LGBMClassifier(n_estimators=200)\n",
    "\n",
    "model_lgbm.fit(X_train, y_train)\n",
    "y_pred = logreg.predict(X_test)\n",
    "\n",
    "score    = roc_auc_score(y_test, y_pred)\n",
    "f1       = f1_score(y_test, y_pred, average='weighted')\n",
    "acc      = accuracy_score(y_test, y_pred)\n",
    "\n",
    "\n",
    "print(f'')\n",
    "print(f'Average Accuracy = {acc:.5f}' )\n",
    "print(f'Average AUC = {score:.5f}')\n",
    "print(f'Average F1-Score = {f1:.5f}')"
   ]
  },
  {
   "cell_type": "code",
   "execution_count": 33,
   "metadata": {
    "ExecuteTime": {
     "end_time": "2023-01-15T00:29:57.536973Z",
     "start_time": "2023-01-15T00:29:55.601584Z"
    }
   },
   "outputs": [
    {
     "name": "stdout",
     "output_type": "stream",
     "text": [
      "\n",
      "Average Accuracy = 0.87895\n",
      "Average AUC = 0.73660\n",
      "Average F1-Score = 0.87399\n"
     ]
    }
   ],
   "source": [
    "model_cat = cb.CatBoostClassifier(iterations=200)\n",
    "\n",
    "model_cat.fit(X_train, y_train, verbose=False)\n",
    "y_pred = model_cat.predict(X_test)\n",
    "\n",
    "score    = roc_auc_score(y_test, y_pred)\n",
    "f1       = f1_score(y_test, y_pred, average='weighted')\n",
    "acc      = accuracy_score(y_test, y_pred)\n",
    "\n",
    "\n",
    "print(f'')\n",
    "print(f'Average Accuracy = {acc:.5f}' )\n",
    "print(f'Average AUC = {score:.5f}')\n",
    "print(f'Average F1-Score = {f1:.5f}')"
   ]
  },
  {
   "cell_type": "code",
   "execution_count": 34,
   "metadata": {
    "ExecuteTime": {
     "end_time": "2023-01-15T00:30:00.810597Z",
     "start_time": "2023-01-15T00:29:58.985507Z"
    }
   },
   "outputs": [
    {
     "name": "stdout",
     "output_type": "stream",
     "text": [
      "\n",
      "Average Accuracy = 0.87632\n",
      "Average AUC = 0.71212\n",
      "Average F1-Score = 0.86799\n"
     ]
    }
   ],
   "source": [
    "model_rf = RandomForestClassifier()\n",
    "\n",
    "model_rf.fit(X_train, y_train)\n",
    "y_pred = model_rf.predict(X_test)\n",
    "\n",
    "score    = roc_auc_score(y_test, y_pred)\n",
    "f1       = f1_score(y_test, y_pred, average='weighted')\n",
    "acc      = accuracy_score(y_test, y_pred)\n",
    "\n",
    "\n",
    "print(f'')\n",
    "print(f'Average Accuracy = {acc:.5f}' )\n",
    "print(f'Average AUC = {score:.5f}')\n",
    "print(f'Average F1-Score = {f1:.5f}')"
   ]
  },
  {
   "cell_type": "code",
   "execution_count": null,
   "metadata": {},
   "outputs": [],
   "source": []
  },
  {
   "cell_type": "markdown",
   "metadata": {},
   "source": [
    "## 4.3 XGB"
   ]
  },
  {
   "cell_type": "code",
   "execution_count": 35,
   "metadata": {
    "ExecuteTime": {
     "end_time": "2023-01-15T00:31:33.946114Z",
     "start_time": "2023-01-15T00:30:03.530393Z"
    },
    "scrolled": true
   },
   "outputs": [
    {
     "name": "stdout",
     "output_type": "stream",
     "text": [
      "Fold: 0\n",
      "AUC = 0.91195 F1-Score: 0.87184\n",
      "Fold: 1\n",
      "AUC = 0.93922 F1-Score: 0.87584\n",
      "Fold: 2\n",
      "AUC = 0.93061 F1-Score: 0.87927\n",
      "Fold: 3\n",
      "AUC = 0.93004 F1-Score: 0.87504\n",
      "Fold: 4\n",
      "AUC = 0.92213 F1-Score: 0.86427\n",
      "\n",
      "Average AUC = 0.92679\n",
      "Average F1-Score = 0.87325\n",
      "\n",
      "CPU times: total: 2min 5s\n",
      "Wall time: 1min 30s\n"
     ]
    }
   ],
   "source": [
    "%%time\n",
    "\n",
    "f1s = []\n",
    "aucs = []\n",
    "preds_test = []\n",
    "importances = []\n",
    "\n",
    "# using StratifiedKFold cause data is imbalanced\n",
    "kf = StratifiedKFold(n_splits=CFG.FOLDS, shuffle=True, random_state=CFG.seed)\n",
    "\n",
    "for fold, (tr_idx, val_idx) in enumerate(kf.split(X[FEATURES], X[TARGET])):\n",
    "    print('Fold:', fold)\n",
    "    \n",
    "    # split train/val\n",
    "    X_tr = X.loc[tr_idx, FEATURES]\n",
    "    y_tr = X.loc[tr_idx, TARGET]\n",
    "    X_va = X.loc[val_idx, FEATURES]\n",
    "    y_va = X.loc[val_idx, TARGET]\n",
    "    \n",
    "\n",
    "    # MODEL\n",
    "    model_xgb = xgb.XGBClassifier(\n",
    "        reg_lambda= 0.7103261259878902, \n",
    "         alpha= 3.818812772685153, \n",
    "         colsample_bytree= 0.8, \n",
    "         subsample= 0.75, \n",
    "         learning_rate= 0.008, \n",
    "         n_estimators= 1000, \n",
    "         max_depth= 12, \n",
    "         min_child_weight= 7,\n",
    "        n_jobs=-1\n",
    "    )\n",
    "\n",
    "    \n",
    "    model_xgb.fit(X_tr, y_tr)\n",
    "                                    \n",
    "    # Validate model\n",
    "    va_preds = model_xgb.predict_proba(X_va)[:, 1]\n",
    "    vaf1_preds = model_xgb.predict(X_va)\n",
    "    score    = roc_auc_score(y_va, va_preds)\n",
    "    f1       = f1_score(y_va, vaf1_preds, average='weighted')\n",
    "    print(f\"AUC = {score:.5f} F1-Score: {f1:.5f}\")\n",
    "    aucs.append(score)\n",
    "    f1s.append(f1)\n",
    "    \n",
    "    # Test set predictions\n",
    "    preds_test.append(model_xgb.predict(test_aux[FEATURES]))\n",
    "    df_sub[f'fold_{fold}'] = preds_test[fold]\n",
    "    \n",
    "    # Feature Importances\n",
    "    importances.append(model_xgb.feature_importances_)\n",
    "    \n",
    "    \n",
    "    ### free memory\n",
    "#     del X_tr, y_tr\n",
    "#     del X_va, y_va\n",
    "    gc.collect()\n",
    "\n",
    "    \n",
    "    \n",
    "print(f'\\nAverage AUC = {sum(aucs) / len(aucs):.5f}')\n",
    "print(f'Average F1-Score = {sum(f1s) / len(f1s):.5f}' )\n",
    "print('')\n",
    "preds_xgb = sum(preds_test)/len(preds_test)"
   ]
  },
  {
   "cell_type": "code",
   "execution_count": 36,
   "metadata": {
    "ExecuteTime": {
     "end_time": "2023-01-15T00:32:10.080343Z",
     "start_time": "2023-01-15T00:32:10.064353Z"
    }
   },
   "outputs": [],
   "source": [
    "fpr, tpr, thresholds = roc_curve(y_va, va_preds)"
   ]
  },
  {
   "cell_type": "code",
   "execution_count": 37,
   "metadata": {
    "ExecuteTime": {
     "end_time": "2023-01-15T00:32:10.782396Z",
     "start_time": "2023-01-15T00:32:10.768405Z"
    }
   },
   "outputs": [
    {
     "data": {
      "text/plain": [
       "0.41289377"
      ]
     },
     "execution_count": 37,
     "metadata": {},
     "output_type": "execute_result"
    }
   ],
   "source": [
    "np.mean(thresholds)"
   ]
  },
  {
   "cell_type": "code",
   "execution_count": 38,
   "metadata": {
    "ExecuteTime": {
     "end_time": "2023-01-15T00:32:12.390976Z",
     "start_time": "2023-01-15T00:32:12.040526Z"
    },
    "hide_input": false
   },
   "outputs": [
    {
     "name": "stdout",
     "output_type": "stream",
     "text": [
      "\u001b[36m\u001b[1mAverage AUC = 0.92679\n",
      "Average F1-Score = 0.87325\u001b[0m\n"
     ]
    },
    {
     "data": {
      "image/png": "[encoded data removed]",
      "text/plain": [
       "<Figure size 1400x400 with 1 Axes>"
      ]
     },
     "metadata": {},
     "output_type": "display_data"
    }
   ],
   "source": [
    "print(f\"{Fore.CYAN}{Style.BRIGHT}Average AUC = {sum(aucs) / len(aucs):.5f}\\nAverage F1-Score = {sum(f1s) / len(f1s):.5f}{Style.RESET_ALL}\")\n",
    "\n",
    "if type(model_xgb).__name__ == 'XGBClassifier':\n",
    "    # Show feature importances\n",
    "    importance_df = pd.DataFrame(np.array(importances).T, index=FEATURES)\n",
    "    importance_df['mean'] = importance_df.mean(axis=1).abs()\n",
    "    importance_df['feature'] = FEATURES\n",
    "    importance_df = importance_df.sort_values('mean', ascending=False).reset_index().head(10)\n",
    "    plt.figure(figsize=(14, 4))\n",
    "    plt.barh(importance_df.index, importance_df['mean'], color='cyan')\n",
    "    plt.gca().invert_yaxis()\n",
    "    plt.yticks(ticks=importance_df.index, labels=importance_df['feature'])\n",
    "    plt.title('XGB Feature Importances')\n",
    "    plt.show()\n",
    "# else:\n",
    "#     importance_df = pd.DataFrame(np.array(importances).T, index=FEATURES)\n",
    "#     importance_df['mean'] = importance_df.mean(axis=1).abs()\n",
    "#     importance_df['feature'] = FEATURES\n",
    "#     importance_df = importance_df.sort_values('mean', ascending=False).reset_index().head(15)\n",
    "#     plt.figure(figsize=(14, 4))\n",
    "#     plt.barh(importance_df.index, importance_df['mean'], color='cyan')\n",
    "#     plt.gca().invert_yaxis()\n",
    "#     plt.yticks(ticks=importance_df.index, labels=importance_df['feature'])\n",
    "#     plt.title('Feature Importances')\n",
    "#     plt.show()"
   ]
  },
  {
   "cell_type": "markdown",
   "metadata": {},
   "source": [
    "### 4.3.1 Optuna - XGB"
   ]
  },
  {
   "cell_type": "code",
   "execution_count": 39,
   "metadata": {
    "ExecuteTime": {
     "end_time": "2023-01-15T00:32:21.191417Z",
     "start_time": "2023-01-15T00:32:21.172429Z"
    },
    "jupyter": {
     "outputs_hidden": true
    }
   },
   "outputs": [],
   "source": [
    "# def objective(trial):\n",
    "    \n",
    "#     train_x, test_x, train_y, test_y = train_test_split(X[FEATURES], y, test_size=0.20,random_state=42)\n",
    "#     param = {\n",
    "# #         'tree_method':'gpu_hist',  # this parameter means using the GPU when training our model to speedup the training process\n",
    "#         'lambda': trial.suggest_loguniform('lambda', 1e-3, 10.0),\n",
    "#         'alpha': trial.suggest_loguniform('alpha', 1e-3, 10.0),\n",
    "#         'colsample_bytree': trial.suggest_categorical('colsample_bytree', [0.3,0.4,0.5,0.6,0.7,0.8,0.9, 1.0]),\n",
    "#         'subsample': trial.suggest_categorical('subsample', [0.4,0.5,0.6,0.7,0.8,1.0]),\n",
    "#         'learning_rate': trial.suggest_categorical('learning_rate', [0.008,0.01,0.012,0.014,0.016,0.018, 0.02, 0.03, 0.05, 0.08]),\n",
    "#         'n_estimators': trial.suggest_int('n_estimators', 100, 3000),\n",
    "#         'max_depth': trial.suggest_categorical('max_depth', [5,7,9,11,13,15,17]),\n",
    "# #         'random_state': trial.suggest_categorical('random_state', [2020]),\n",
    "#         'min_child_weight': trial.suggest_int('min_child_weight', 1, 300),\n",
    "#     }\n",
    "#     model = xgb.XGBClassifier(**param)  \n",
    "    \n",
    "#     model.fit(train_x,train_y,eval_set=[(test_x,test_y)],early_stopping_rounds=100,verbose=False)\n",
    "    \n",
    "# #     preds = model.predict(test_x)\n",
    "    \n",
    "#     scores = cross_val_score(model, X[FEATURES], y,\n",
    "#                               cv=5,\n",
    "#                               scoring='f1_weighted')\n",
    "\n",
    "#     scores_mean = scores.mean()\n",
    "                  \n",
    "#     print(f'F1 Score Average: {scores_mean}' )\n",
    "                  \n",
    "#     return scores_mean\n",
    "\n",
    "\n",
    "# study = optuna.create_study(direction='maximize')\n",
    "# study.optimize(objective,n_trials=30);\n",
    "\n",
    "# trial = study.best_trial\n",
    "\n",
    "# print('Best F1 Score: {}'.format(trial.value))\n",
    "# print('Best hyperparam: {}'.format(trial.params))"
   ]
  },
  {
   "cell_type": "code",
   "execution_count": 40,
   "metadata": {
    "ExecuteTime": {
     "end_time": "2023-01-15T00:32:22.380386Z",
     "start_time": "2023-01-15T00:32:22.368393Z"
    }
   },
   "outputs": [
    {
     "data": {
      "text/plain": [
       "\"F1 Score Average: 0.8656694532551846\\nBest F1 Score: 0.8685818878787952\\nBest hyperparam: {'lambda': 0.7103261259878902, \\n                  'alpha': 3.818812772685153, \\n                  'colsample_bytree': 0.8, \\n                  'subsample': 0.6, \\n                   'learning_rate': 0.008, \\n                   'n_estimators': 2085, \\n                   'max_depth': 17, \\n                   'min_child_weight': 7}\""
      ]
     },
     "execution_count": 40,
     "metadata": {},
     "output_type": "execute_result"
    }
   ],
   "source": [
    "\"\"\"F1 Score Average: 0.8656694532551846\n",
    "Best F1 Score: 0.8685818878787952\n",
    "Best hyperparam: {'lambda': 0.7103261259878902, \n",
    "                  'alpha': 3.818812772685153, \n",
    "                  'colsample_bytree': 0.8, \n",
    "                  'subsample': 0.6, \n",
    "                   'learning_rate': 0.008, \n",
    "                   'n_estimators': 2085, \n",
    "                   'max_depth': 17, \n",
    "                   'min_child_weight': 7}\"\"\""
   ]
  },
  {
   "cell_type": "markdown",
   "metadata": {},
   "source": [
    "## 4.4 LGBM"
   ]
  },
  {
   "cell_type": "code",
   "execution_count": 41,
   "metadata": {
    "ExecuteTime": {
     "end_time": "2023-01-15T00:32:29.154471Z",
     "start_time": "2023-01-15T00:32:26.888247Z"
    }
   },
   "outputs": [
    {
     "name": "stdout",
     "output_type": "stream",
     "text": [
      "Fold: 0\n",
      "AUC = 0.90233 F1-Score: 0.86476\n",
      "Fold: 1\n",
      "AUC = 0.93618 F1-Score: 0.88632\n",
      "Fold: 2\n",
      "AUC = 0.92394 F1-Score: 0.88268\n",
      "Fold: 3\n",
      "AUC = 0.92624 F1-Score: 0.86953\n",
      "Fold: 4\n",
      "AUC = 0.91881 F1-Score: 0.86347\n",
      "\n",
      "Average AUC = 0.92150\n",
      "Average F1-Score = 0.87335\n",
      "\n",
      "CPU times: total: 3.3 s\n",
      "Wall time: 2.25 s\n"
     ]
    }
   ],
   "source": [
    "%%time\n",
    "\n",
    "f1s = []\n",
    "aucs = []\n",
    "preds_test = []\n",
    "importances = []\n",
    "oof_pred = []; oof_tar = []; oof_names = []; oof_folds = [] \n",
    "kf = StratifiedKFold(n_splits=CFG.FOLDS, shuffle=True, random_state=CFG.seed)\n",
    "\n",
    "for fold, (tr_idx, val_idx) in enumerate(kf.split(X[FEATURES], X[TARGET])):\n",
    "    print('Fold:', fold)\n",
    "    \n",
    "    # split train/val\n",
    "    X_tr = X.loc[tr_idx, FEATURES]\n",
    "    y_tr = X.loc[tr_idx, TARGET]\n",
    "    X_va = X.loc[val_idx, FEATURES]\n",
    "    y_va = X.loc[val_idx, TARGET]\n",
    "    \n",
    "\n",
    "    # MODEL\n",
    "    model_lgb = lgbm.LGBMClassifier(\n",
    "                reg_lambda= 1.6626804101540482, \n",
    "                  alpha= 0.29793371309642636, \n",
    "                  colsample_bytree= 0.9, \n",
    "                  subsample= 0.7, \n",
    "                  learning_rate= 0.15, \n",
    "                  n_estimators= 200, \n",
    "                  max_depth= 17,\n",
    "                  num_leaves=100,\n",
    "                  min_child_weight= 49,\n",
    "                n_jobs=-1\n",
    "    )\n",
    "\n",
    "    \n",
    "    model_lgb.fit(X_tr, y_tr)\n",
    "                                    \n",
    "    # Validate model\n",
    "    va_preds = model_lgb.predict_proba(X_va)[:, 1]\n",
    "    vaf1_preds = model_lgb.predict(X_va)\n",
    "    score    = roc_auc_score(y_va, va_preds)\n",
    "    f1       = f1_score(y_va, vaf1_preds, average='weighted')\n",
    "    print(f\"AUC = {score:.5f} F1-Score: {f1:.5f}\") # , C = {model.get_params['C']}, penalty = {model.get_params['penalty']}\n",
    "    aucs.append(score)\n",
    "    f1s.append(f1)\n",
    "    \n",
    "    # Test set predictions\n",
    "#     preds_test.append(model.predict_proba(test[FEATURES])[:, 1])\n",
    "    preds_test.append(model_lgb.predict(test_aux[FEATURES]))\n",
    "    df_sub[f'fold_{fold}'] = preds_test[fold]\n",
    "    \n",
    "    \n",
    "    # Feature Importances\n",
    "    importances.append(model_lgb.feature_importances_)\n",
    "    \n",
    "    \n",
    "    ### free memory\n",
    "#     del X_tr, y_tr\n",
    "#     del X_va, y_va\n",
    "    gc.collect()\n",
    "\n",
    "    \n",
    "    \n",
    "print(f'\\nAverage AUC = {sum(aucs) / len(aucs):.5f}')\n",
    "print(f'Average F1-Score = {sum(f1s) / len(f1s):.5f}' )\n",
    "print('')\n",
    "preds_lgb = sum(preds_test)/len(preds_test)"
   ]
  },
  {
   "cell_type": "code",
   "execution_count": 42,
   "metadata": {
    "ExecuteTime": {
     "end_time": "2023-01-15T00:32:30.915312Z",
     "start_time": "2023-01-15T00:32:30.896324Z"
    }
   },
   "outputs": [],
   "source": [
    "fpr, tpr, thresholds = roc_curve(y_va, va_preds)"
   ]
  },
  {
   "cell_type": "code",
   "execution_count": 43,
   "metadata": {
    "ExecuteTime": {
     "end_time": "2023-01-15T00:32:31.782310Z",
     "start_time": "2023-01-15T00:32:31.776314Z"
    }
   },
   "outputs": [
    {
     "data": {
      "text/plain": [
       "0.4287410748288226"
      ]
     },
     "execution_count": 43,
     "metadata": {},
     "output_type": "execute_result"
    }
   ],
   "source": [
    "np.mean(thresholds)"
   ]
  },
  {
   "cell_type": "markdown",
   "metadata": {},
   "source": [
    "## 4.5 Feature Importances"
   ]
  },
  {
   "cell_type": "code",
   "execution_count": 44,
   "metadata": {
    "ExecuteTime": {
     "end_time": "2023-01-15T00:32:33.847349Z",
     "start_time": "2023-01-15T00:32:33.488305Z"
    }
   },
   "outputs": [
    {
     "name": "stdout",
     "output_type": "stream",
     "text": [
      "\u001b[36m\u001b[1mAverage AUC = 0.92150\n",
      "Average F1-Score = 0.87335\u001b[0m\n"
     ]
    },
    {
     "data": {
      "image/png": "[encoded data removed]",
      "text/plain": [
       "<Figure size 2500x1200 with 1 Axes>"
      ]
     },
     "metadata": {},
     "output_type": "display_data"
    }
   ],
   "source": [
    "print(f\"{Fore.CYAN}{Style.BRIGHT}Average AUC = {sum(aucs) / len(aucs):.5f}\\nAverage F1-Score = {sum(f1s) / len(f1s):.5f}{Style.RESET_ALL}\")\n",
    "\n",
    "if type(model_lgb).__name__ == 'LGBMClassifier':\n",
    "    lgbm.plot_importance(model_lgb, max_num_features = 5, height=.5)\n",
    "else:\n",
    "    importance_df = pd.DataFrame(np.array(importances).T, index=FEATURES)\n",
    "    importance_df['mean'] = importance_df.mean(axis=1).abs()\n",
    "    importance_df['feature'] = FEATURES\n",
    "    importance_df = importance_df.sort_values('mean', ascending=False).reset_index().head(5)\n",
    "    plt.figure(figsize=(14, 4))\n",
    "    plt.barh(importance_df.index, importance_df['mean'], color='cyan')\n",
    "    plt.gca().invert_yaxis()\n",
    "    plt.yticks(ticks=importance_df.index, labels=importance_df['feature'])\n",
    "    plt.title('LGBM Feature Importances')\n",
    "    plt.show()"
   ]
  },
  {
   "cell_type": "code",
   "execution_count": 45,
   "metadata": {
    "ExecuteTime": {
     "end_time": "2023-01-15T00:32:38.982220Z",
     "start_time": "2023-01-15T00:32:37.064214Z"
    },
    "hide_input": true
   },
   "outputs": [
    {
     "data": {
      "image/png": "[encoded data removed]",
      "text/plain": [
       "<Figure size 1200x800 with 1 Axes>"
      ]
     },
     "metadata": {},
     "output_type": "display_data"
    }
   ],
   "source": [
    "mi_scores = mutual_info_classif(X[FEATURES], y)\n",
    "mi_scores_classif = make_mi_scores(mi_scores, X[FEATURES], y)\n",
    "\n",
    "plt.figure(dpi=100, figsize=(12, 8))\n",
    "columns = plot_mi_scores(mi_scores_classif[mi_scores_classif > 1e-3], X)"
   ]
  },
  {
   "cell_type": "markdown",
   "metadata": {},
   "source": [
    "# 5.0 Ensembling Models"
   ]
  },
  {
   "cell_type": "markdown",
   "metadata": {},
   "source": [
    "Tried a different approach from KFold Cross-Validation and it seems to have worked out :)"
   ]
  },
  {
   "cell_type": "code",
   "execution_count": 46,
   "metadata": {
    "ExecuteTime": {
     "end_time": "2023-01-15T00:32:39.457530Z",
     "start_time": "2023-01-15T00:32:39.440540Z"
    }
   },
   "outputs": [],
   "source": [
    "# INSERIR MANUALMENTE!\n",
    "MODEL_INFO = 'XGB_LGBM_ensemble_02_featAgg'"
   ]
  },
  {
   "cell_type": "code",
   "execution_count": 47,
   "metadata": {
    "ExecuteTime": {
     "end_time": "2023-01-15T00:32:40.563173Z",
     "start_time": "2023-01-15T00:32:40.544183Z"
    }
   },
   "outputs": [],
   "source": [
    "X_train, X_val, y_train, y_val = train_test_split(X[FEATURES], y, test_size=.2)"
   ]
  },
  {
   "cell_type": "code",
   "execution_count": 48,
   "metadata": {
    "ExecuteTime": {
     "end_time": "2023-01-15T00:32:42.887710Z",
     "start_time": "2023-01-15T00:32:41.392372Z"
    }
   },
   "outputs": [
    {
     "data": {
      "text/plain": [
       "0.8647097328120505"
      ]
     },
     "execution_count": 48,
     "metadata": {},
     "output_type": "execute_result"
    }
   ],
   "source": [
    "xgb_model = xgb.XGBClassifier(n_estimators=300)\n",
    "xgb_model.fit(X_train[FEATURES], y_train,\n",
    "            eval_set=[(X_train[FEATURES],y_train)\\\n",
    "                      ,(X_val[FEATURES], y_val)],\n",
    "            early_stopping_rounds=25,\n",
    "           verbose=False)\n",
    "predictions = xgb_model.predict(X_val[FEATURES])\n",
    "\n",
    "X_val['predictions'] = predictions\n",
    "f1_score(y_val,X_val.predictions, average='weighted')"
   ]
  },
  {
   "cell_type": "code",
   "execution_count": 49,
   "metadata": {
    "ExecuteTime": {
     "end_time": "2023-01-15T00:32:44.602533Z",
     "start_time": "2023-01-15T00:32:44.224281Z"
    }
   },
   "outputs": [
    {
     "data": {
      "text/plain": [
       "0.8668923282195832"
      ]
     },
     "execution_count": 49,
     "metadata": {},
     "output_type": "execute_result"
    }
   ],
   "source": [
    "lgb_model = lgbm.LGBMClassifier(n_estimators=1000)\n",
    "lgb_model.fit(X_train[FEATURES], y_train,\n",
    "        eval_set=[(X_train[FEATURES],y_train)\\\n",
    "                  ,(X_val[FEATURES], y_val)],\n",
    "        early_stopping_rounds=25,verbose=False)\n",
    "\n",
    "X_val['predictions'] = lgb_model.predict(X_val[FEATURES])\n",
    "f1_score(y_val,X_val.predictions, average='weighted')"
   ]
  },
  {
   "cell_type": "code",
   "execution_count": 50,
   "metadata": {
    "ExecuteTime": {
     "end_time": "2023-01-15T00:32:46.573210Z",
     "start_time": "2023-01-15T00:32:46.511137Z"
    }
   },
   "outputs": [],
   "source": [
    "predictions1 = lgb_model.predict(test_aux[FEATURES])\n",
    "predictions2 = xgb_model.predict(test_aux[FEATURES])\n",
    "\n",
    "predictions = (predictions1*0.49)+(predictions2*(0.51))"
   ]
  },
  {
   "cell_type": "markdown",
   "metadata": {},
   "source": [
    "# 6.0 Submission"
   ]
  },
  {
   "cell_type": "code",
   "execution_count": 51,
   "metadata": {
    "ExecuteTime": {
     "end_time": "2023-01-15T00:32:48.447040Z",
     "start_time": "2023-01-15T00:32:48.440044Z"
    }
   },
   "outputs": [],
   "source": [
    "df_sub['limite_adicional'] = predictions"
   ]
  },
  {
   "cell_type": "code",
   "execution_count": 52,
   "metadata": {
    "ExecuteTime": {
     "end_time": "2023-01-15T00:32:49.180030Z",
     "start_time": "2023-01-15T00:32:49.172035Z"
    }
   },
   "outputs": [],
   "source": [
    "df_sub['limite_adicional'] = df_sub['limite_adicional'].apply(lambda x: 0 if x < 0.5 else 1)"
   ]
  },
  {
   "cell_type": "code",
   "execution_count": 53,
   "metadata": {
    "ExecuteTime": {
     "end_time": "2023-01-15T00:32:50.146012Z",
     "start_time": "2023-01-15T00:32:50.127024Z"
    }
   },
   "outputs": [],
   "source": [
    "df_sub['limite_adicional'] = df_sub['limite_adicional'].replace([0, 1], ['Negar', 'Conceder'])"
   ]
  },
  {
   "cell_type": "code",
   "execution_count": 54,
   "metadata": {
    "ExecuteTime": {
     "end_time": "2023-01-15T00:32:50.944177Z",
     "start_time": "2023-01-15T00:32:50.920190Z"
    },
    "scrolled": true
   },
   "outputs": [
    {
     "data": {
      "text/html": [
       "<div>\n",
       "<style scoped>\n",
       "    .dataframe tbody tr th:only-of-type {\n",
       "        vertical-align: middle;\n",
       "    }\n",
       "\n",
       "    .dataframe tbody tr th {\n",
       "        vertical-align: top;\n",
       "    }\n",
       "\n",
       "    .dataframe thead th {\n",
       "        text-align: right;\n",
       "    }\n",
       "</style>\n",
       "<table border=\"1\" class=\"dataframe\">\n",
       "  <thead>\n",
       "    <tr style=\"text-align: right;\">\n",
       "      <th></th>\n",
       "      <th>id_cliente</th>\n",
       "      <th>limite_adicional</th>\n",
       "    </tr>\n",
       "  </thead>\n",
       "  <tbody>\n",
       "    <tr>\n",
       "      <th>0</th>\n",
       "      <td>2</td>\n",
       "      <td>Conceder</td>\n",
       "    </tr>\n",
       "    <tr>\n",
       "      <th>1</th>\n",
       "      <td>5</td>\n",
       "      <td>Negar</td>\n",
       "    </tr>\n",
       "    <tr>\n",
       "      <th>2</th>\n",
       "      <td>6</td>\n",
       "      <td>Negar</td>\n",
       "    </tr>\n",
       "    <tr>\n",
       "      <th>3</th>\n",
       "      <td>8</td>\n",
       "      <td>Negar</td>\n",
       "    </tr>\n",
       "    <tr>\n",
       "      <th>4</th>\n",
       "      <td>10</td>\n",
       "      <td>Conceder</td>\n",
       "    </tr>\n",
       "  </tbody>\n",
       "</table>\n",
       "</div>"
      ],
      "text/plain": [
       "   id_cliente limite_adicional\n",
       "0           2         Conceder\n",
       "1           5            Negar\n",
       "2           6            Negar\n",
       "3           8            Negar\n",
       "4          10         Conceder"
      ]
     },
     "execution_count": 54,
     "metadata": {},
     "output_type": "execute_result"
    }
   ],
   "source": [
    "df_sub[['id_cliente', 'limite_adicional']].head()"
   ]
  },
  {
   "cell_type": "code",
   "execution_count": 55,
   "metadata": {
    "ExecuteTime": {
     "end_time": "2023-01-15T00:32:54.763168Z",
     "start_time": "2023-01-15T00:32:54.744179Z"
    }
   },
   "outputs": [],
   "source": [
    "# df_sub[['id_cliente', 'limite_adicional']].to_csv(f'sub_{MODEL_INFO}.csv', index=False)\n",
    "df_sub[['id_cliente', 'limite_adicional']].to_csv('submission.csv', index=False)"
   ]
  },
  {
   "cell_type": "code",
   "execution_count": 56,
   "metadata": {
    "ExecuteTime": {
     "end_time": "2023-01-15T00:32:55.629149Z",
     "start_time": "2023-01-15T00:32:55.616157Z"
    },
    "execution": {
     "iopub.execute_input": "2022-10-24T16:18:40.470003Z",
     "iopub.status.busy": "2022-10-24T16:18:40.469438Z",
     "iopub.status.idle": "2022-10-24T16:18:40.47552Z",
     "shell.execute_reply": "2022-10-24T16:18:40.474454Z",
     "shell.execute_reply.started": "2022-10-24T16:18:40.469954Z"
    }
   },
   "outputs": [
    {
     "data": {
      "text/plain": [
       "Negar       2605\n",
       "Conceder     395\n",
       "Name: limite_adicional, dtype: int64"
      ]
     },
     "execution_count": 56,
     "metadata": {},
     "output_type": "execute_result"
    }
   ],
   "source": [
    "df_sub[TARGET].value_counts()"
   ]
  },
  {
   "cell_type": "code",
   "execution_count": null,
   "metadata": {},
   "outputs": [],
   "source": []
  }
 ],
 "metadata": {
  "kernelspec": {
   "display_name": "Python 3 (ipykernel)",
   "language": "python",
   "name": "python3"
  },
  "language_info": {
   "codemirror_mode": {
    "name": "ipython",
    "version": 3
   },
   "file_extension": ".py",
   "mimetype": "text/x-python",
   "name": "python",
   "nbconvert_exporter": "python",
   "pygments_lexer": "ipython3",
   "version": "3.9.13"
  }
 },
 "nbformat": 4,
 "nbformat_minor": 4
}
